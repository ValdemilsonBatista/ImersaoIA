{
  "nbformat": 4,
  "nbformat_minor": 0,
  "metadata": {
    "colab": {
      "provenance": [],
      "authorship_tag": "ABX9TyPT2Fz5fJwLuNgbGO9RaBxe",
      "include_colab_link": true
    },
    "kernelspec": {
      "name": "python3",
      "display_name": "Python 3"
    },
    "language_info": {
      "name": "python"
    }
  },
  "cells": [
    {
      "cell_type": "markdown",
      "metadata": {
        "id": "view-in-github",
        "colab_type": "text"
      },
      "source": [
        "<a href=\"https://colab.research.google.com/github/ValdemilsonBatista/ImersaoIA/blob/main/CHATBOT_COM_GEMINI_API_NO_GGOGLE_COLAB.ipynb\" target=\"_parent\"><img src=\"https://colab.research.google.com/assets/colab-badge.svg\" alt=\"Open In Colab\"/></a>"
      ]
    },
    {
      "cell_type": "code",
      "execution_count": null,
      "metadata": {
        "id": "ffoN9CnyBjs3"
      },
      "outputs": [],
      "source": []
    },
    {
      "cell_type": "markdown",
      "source": [
        "Instalando SDK do Google"
      ],
      "metadata": {
        "id": "cJS8CShkMrid"
      }
    },
    {
      "cell_type": "code",
      "execution_count": 1,
      "metadata": {
        "id": "J6Pd9SFJ1yVi"
      },
      "outputs": [],
      "source": [
        "!pip install -q -U google-generativeai"
      ]
    },
    {
      "cell_type": "code",
      "source": [],
      "metadata": {
        "id": "ropzbx1dM9vq"
      },
      "execution_count": null,
      "outputs": []
    },
    {
      "cell_type": "code",
      "execution_count": 21,
      "metadata": {
        "id": "HTiaTu6O1LRC"
      },
      "outputs": [],
      "source": [
        "# Import the Python SDK\n",
        "import google.generativeai as genai\n",
        "# Used to securely store your API key\n",
        "from google.colab import userdata\n",
        "chave = userdata.get('secret_key')\n",
        "genai.configure(api_key=chave)"
      ]
    },
    {
      "cell_type": "markdown",
      "source": [
        "Lista os Modeos disponíveis"
      ],
      "metadata": {
        "id": "ybZ5iohJNYq_"
      }
    },
    {
      "cell_type": "code",
      "source": [
        "for m in genai.list_models():\n",
        "  if 'generateContent' in m.supported_generation_methods:\n",
        "    print(m.name)"
      ],
      "metadata": {
        "colab": {
          "base_uri": "https://localhost:8080/",
          "height": 138
        },
        "id": "mXsWseMfNhjt",
        "outputId": "00303b3b-dfe3-4ff4-abec-03f265b01d87"
      },
      "execution_count": 3,
      "outputs": [
        {
          "output_type": "stream",
          "name": "stdout",
          "text": [
            "models/gemini-1.0-pro\n",
            "models/gemini-1.0-pro-001\n",
            "models/gemini-1.0-pro-latest\n",
            "models/gemini-1.0-pro-vision-latest\n",
            "models/gemini-1.5-pro-latest\n",
            "models/gemini-pro\n",
            "models/gemini-pro-vision\n"
          ]
        }
      ]
    },
    {
      "cell_type": "code",
      "source": [
        "generation_config = {\n",
        "    \"candidate_count\": 1,\n",
        "    \"temperature\": 0.5,\n",
        "}"
      ],
      "metadata": {
        "id": "Xv-MNEWDRPEI"
      },
      "execution_count": 4,
      "outputs": []
    },
    {
      "cell_type": "code",
      "source": [
        "safety_settings = {\n",
        "    \"HARASSMENT\": \"BLOCK_NONE\",\n",
        "    \"HATE\": \"BLOCK_NONE\",\n",
        "    \"SEXUAL\": \"BLOCK_NONE\",\n",
        "    \"DANGEROUS\": \"BLOCK_NONE\",\n",
        "}"
      ],
      "metadata": {
        "id": "t68Hvk0VS1Yy"
      },
      "execution_count": 5,
      "outputs": []
    },
    {
      "cell_type": "markdown",
      "source": [
        "Inicializando o modelo"
      ],
      "metadata": {
        "id": "BAj17GALligk"
      }
    },
    {
      "cell_type": "code",
      "source": [
        "model = genai.GenerativeModel(model_name=\"gemini-1.0-pro\",\n",
        "                              generation_config=generation_config,\n",
        "                              safety_settings=safety_settings)"
      ],
      "metadata": {
        "id": "Pa0sLJqOkmGW"
      },
      "execution_count": 6,
      "outputs": []
    },
    {
      "cell_type": "code",
      "source": [
        "response = model.generate_content(\"Vamos aprender sobre IA. Me dê sugestões.\")\n",
        "print(response.text)"
      ],
      "metadata": {
        "colab": {
          "base_uri": "https://localhost:8080/",
          "height": 538
        },
        "id": "P5o3D-_qn_qI",
        "outputId": "10ba6641-9856-473d-8ca8-1186a7470727"
      },
      "execution_count": 8,
      "outputs": [
        {
          "output_type": "stream",
          "name": "stdout",
          "text": [
            "**Recursos Online:**\n",
            "\n",
            "* **Coursera:** Cursos gratuitos e pagos sobre IA, aprendizado de máquina e ciência de dados\n",
            "* **edX:** Cursos online de universidades líderes, incluindo IA e aprendizado profundo\n",
            "* **Udemy:** Cursos abrangentes e práticos sobre IA para iniciantes e profissionais\n",
            "* **MIT OpenCourseWare:** Aulas e materiais de cursos sobre IA e tópicos relacionados\n",
            "* **Google AI:** Recursos de aprendizado, tutoriais e documentação sobre IA e aprendizado de máquina\n",
            "\n",
            "**Livros:**\n",
            "\n",
            "* **Inteligência Artificial: Uma Abordagem Moderna (3ª Edição)** por Stuart Russell e Peter Norvig\n",
            "* **Aprendizado de Máquina (4ª Edição)** por Ethem Alpaydin\n",
            "* **Aprendizado Profundo (2ª Edição)** por Ian Goodfellow, Yoshua Bengio e Aaron Courville\n",
            "* **IA para Todos: Uma Introdução Prática para Não Técnicos** por Mark Bowden\n",
            "* **Inteligência Artificial: Uma Perspectiva Prática** por Kevin Warwick\n",
            "\n",
            "**Comunidades e Fóruns:**\n",
            "\n",
            "* **Stack Overflow:** Fórum de perguntas e respostas para programadores, incluindo tópicos de IA\n",
            "* **Reddit r/artificialintelligence:** Subreddit dedicado à discussão sobre IA\n",
            "* **Kaggle:** Comunidade online para cientistas de dados e profissionais de IA\n",
            "* **LinkedIn Groups:** Grupos focados em IA, aprendizado de máquina e aprendizado profundo\n",
            "* **Meetup Groups:** Grupos locais que organizam eventos e workshops relacionados à IA\n",
            "\n",
            "**Cursos Presenciais:**\n",
            "\n",
            "* **Universidades:** Verifique as universidades locais para programas de graduação e pós-graduação em IA\n",
            "* **Institutos de Pesquisa:** Institutos como o MIT Media Lab e o Stanford AI Lab oferecem cursos e workshops\n",
            "* **Bootcamps:** Programas intensivos que ensinam habilidades práticas em IA e aprendizado de máquina\n",
            "* **Conferências e Workshops:** Participe de conferências e workshops da indústria para aprender sobre os últimos avanços em IA\n"
          ]
        }
      ]
    },
    {
      "cell_type": "code",
      "source": [
        "chat = model.start_chat(history=[])"
      ],
      "metadata": {
        "id": "ED9n0jHopRI2"
      },
      "execution_count": 11,
      "outputs": []
    },
    {
      "cell_type": "code",
      "source": [
        "prompt = input(\"Esperando prompt: \")\n",
        "while prompt != \"fim\":\n",
        "  response = chat.send_message(prompt)\n",
        "  print(\"Resposta: \", response.text, \"\\n\")\n",
        "  prompt = input(\"Esperando prompt: \")"
      ],
      "metadata": {
        "colab": {
          "base_uri": "https://localhost:8080/",
          "height": 191
        },
        "id": "IIyAfZn2qazj",
        "outputId": "ca562acb-2bf4-44cb-9a79-e0643d9f79eb"
      },
      "execution_count": 20,
      "outputs": [
        {
          "name": "stdout",
          "output_type": "stream",
          "text": [
            "Esperando prompt: Qual a Capital de Pernambuco?\n",
            "Resposta:  Recife \n",
            "\n",
            "Esperando prompt: Qual a comida típica desta Cidade?\n",
            "Resposta:  Carne de sol com macaxeira \n",
            "\n",
            "Esperando prompt: Quem nasce neste Estado é?\n",
            "Resposta:  Pernambucano \n",
            "\n",
            "Esperando prompt: fim\n"
          ]
        }
      ]
    },
    {
      "cell_type": "code",
      "source": [],
      "metadata": {
        "id": "RY-p8EturFZ-"
      },
      "execution_count": null,
      "outputs": []
    }
  ]
}